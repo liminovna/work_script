{
  "nbformat": 4,
  "nbformat_minor": 0,
  "metadata": {
    "colab": {
      "name": "Untitled7.ipynb",
      "provenance": [],
      "collapsed_sections": [],
      "authorship_tag": "ABX9TyO0DWmrZytkJd86ip036qoQ",
      "include_colab_link": true
    },
    "kernelspec": {
      "name": "python3",
      "display_name": "Python 3"
    },
    "language_info": {
      "name": "python"
    }
  },
  "cells": [
    {
      "cell_type": "markdown",
      "metadata": {
        "id": "view-in-github",
        "colab_type": "text"
      },
      "source": [
        "<a href=\"https://colab.research.google.com/github/liminovna/work_script/blob/main/outline.ipynb\" target=\"_parent\"><img src=\"https://colab.research.google.com/assets/colab-badge.svg\" alt=\"Open In Colab\"/></a>"
      ]
    },
    {
      "cell_type": "code",
      "source": [
        "!pip install 'xlrd==1.2'"
      ],
      "metadata": {
        "colab": {
          "base_uri": "https://localhost:8080/"
        },
        "id": "5jVwRVO8BkhE",
        "outputId": "9c23ca28-0ad1-4b35-bae1-3e88a3dd5495"
      },
      "execution_count": 1,
      "outputs": [
        {
          "output_type": "stream",
          "name": "stdout",
          "text": [
            "Requirement already satisfied: xlrd==1.2 in /usr/local/lib/python3.7/dist-packages (1.2.0)\n"
          ]
        }
      ]
    },
    {
      "cell_type": "code",
      "execution_count": 2,
      "metadata": {
        "id": "15paCyEl0mc8"
      },
      "outputs": [],
      "source": [
        "import pandas as pd\n",
        "import sqlite3 as sq"
      ]
    },
    {
      "cell_type": "code",
      "source": [
        "import os"
      ],
      "metadata": {
        "id": "tuPQUaWL9IDK"
      },
      "execution_count": 3,
      "outputs": []
    },
    {
      "cell_type": "code",
      "source": [
        "if 'data' not in os.listdir() and os.cwd()!='data':\n",
        "  os.system('mkdir data')\n",
        "os.chdir('data')"
      ],
      "metadata": {
        "id": "5nFd4HSF9NqH"
      },
      "execution_count": 4,
      "outputs": []
    },
    {
      "cell_type": "markdown",
      "source": [
        "Перетащите нужные файлы в папку ```content\\data```\n",
        "\n"
      ],
      "metadata": {
        "id": "1lbf0DRDHCnH"
      }
    },
    {
      "cell_type": "code",
      "source": [
        "files = os.listdir()\n",
        "print('Загруженные файлы:\\n', list(filter(lambda f: not f.startswith('.ipynb'), files)))"
      ],
      "metadata": {
        "id": "-Nr4WQoBG7wX"
      },
      "execution_count": null,
      "outputs": []
    },
    {
      "cell_type": "code",
      "source": [
        "file_ = '' #@param {type:\"string\"}\n",
        "f = pd.read_excel(\n",
        "    file_,\n",
        "    sheet_name=None,\n",
        "    header=0)\n",
        "\n",
        "print(f'В файле {file_} содержатся следующие листы:\\n', [x for x in f.keys()])"
      ],
      "metadata": {
        "id": "TMdY7Xm0KGg3"
      },
      "execution_count": null,
      "outputs": []
    },
    {
      "cell_type": "code",
      "source": [
        "db_conn = sq.connect(\"database.db\")\n",
        "cur = db_conn.cursor()"
      ],
      "metadata": {
        "id": "aHBanouFI7Fa"
      },
      "execution_count": 20,
      "outputs": []
    },
    {
      "cell_type": "code",
      "source": [
        "f.columns"
      ],
      "metadata": {
        "id": "tApEiKZ7Lb2W"
      },
      "execution_count": null,
      "outputs": []
    },
    {
      "cell_type": "code",
      "source": [
        "cur.execute(\n",
        "    \"\"\"\n",
        "    CREATE TABLE ui-4 (\n",
        "        ШПИ INTEGER ,\n",
        "        OrderID TEXT NOT NULL,\n",
        "        ProductID TEXT NOT NULL,\n",
        "        Sales REAL,\n",
        "        Quantity INTEGER,\n",
        "        Discount REAL,\n",
        "        Profit REAL,\n",
        "        PRIMARY KEY(SalesID),\n",
        "        FOREIGN KEY(OrderID) REFERENCES orders(OrderID),\n",
        "        FOREIGN KEY(ProductID) REFERENCES products(ProductID)\n",
        "        );\n",
        "     \"\"\"\n",
        ")\n",
        "\n"
      ],
      "metadata": {
        "id": "KB2OtWNd-Jhw"
      },
      "execution_count": 18,
      "outputs": []
    }
  ]
}