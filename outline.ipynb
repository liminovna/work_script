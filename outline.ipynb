{
  "nbformat": 4,
  "nbformat_minor": 0,
  "metadata": {
    "colab": {
      "name": "Untitled7.ipynb",
      "provenance": [],
      "authorship_tag": "ABX9TyOU/z85Z5GJtihHlRXdIvqO",
      "include_colab_link": true
    },
    "kernelspec": {
      "name": "python3",
      "display_name": "Python 3"
    },
    "language_info": {
      "name": "python"
    }
  },
  "cells": [
    {
      "cell_type": "markdown",
      "metadata": {
        "id": "view-in-github",
        "colab_type": "text"
      },
      "source": [
        "<a href=\"https://colab.research.google.com/github/liminovna/work_script/blob/main/outline.ipynb\" target=\"_parent\"><img src=\"https://colab.research.google.com/assets/colab-badge.svg\" alt=\"Open In Colab\"/></a>"
      ]
    },
    {
      "cell_type": "code",
      "source": [
        "!pip install 'xlrd==1.2'"
      ],
      "metadata": {
        "colab": {
          "base_uri": "https://localhost:8080/"
        },
        "id": "5jVwRVO8BkhE",
        "outputId": "9c23ca28-0ad1-4b35-bae1-3e88a3dd5495"
      },
      "execution_count": 1,
      "outputs": [
        {
          "output_type": "stream",
          "name": "stdout",
          "text": [
            "Requirement already satisfied: xlrd==1.2 in /usr/local/lib/python3.7/dist-packages (1.2.0)\n"
          ]
        }
      ]
    },
    {
      "cell_type": "code",
      "execution_count": 2,
      "metadata": {
        "id": "15paCyEl0mc8"
      },
      "outputs": [],
      "source": [
        "import pandas as pd\n",
        "import sqlite3 as sq"
      ]
    },
    {
      "cell_type": "code",
      "source": [
        "import os"
      ],
      "metadata": {
        "id": "tuPQUaWL9IDK"
      },
      "execution_count": 3,
      "outputs": []
    },
    {
      "cell_type": "code",
      "source": [
        "if 'data' not in os.listdir() and os.cwd()!='data':\n",
        "  os.system('mkdir data')\n",
        "os.chdir('data')"
      ],
      "metadata": {
        "id": "5nFd4HSF9NqH"
      },
      "execution_count": 4,
      "outputs": []
    },
    {
      "cell_type": "markdown",
      "source": [
        "Перетащите нужные файлы в папку ```content\\data```\n",
        "\n"
      ],
      "metadata": {
        "id": "1lbf0DRDHCnH"
      }
    },
    {
      "cell_type": "code",
      "source": [
        "files = os.listdir()\n",
        "print('Загруженные файлы:\\n', list(filter(lambda f: not f.startswith('.ipynb'), files)))"
      ],
      "metadata": {
        "colab": {
          "base_uri": "https://localhost:8080/"
        },
        "id": "-Nr4WQoBG7wX",
        "outputId": "20dd1eae-ee5e-41b0-dd24-561d3a3d8c28"
      },
      "execution_count": 13,
      "outputs": [
        {
          "output_type": "stream",
          "name": "stdout",
          "text": [
            "Загруженные файлы:\n",
            " ['UI-партия4.xls']\n"
          ]
        }
      ]
    },
    {
      "cell_type": "code",
      "source": [
        "file_ = 'UI-\\u043F\\u0430\\u0440\\u0442\\u0438\\u044F4.xls' #@param {type:\"string\"}\n",
        "f = pd.read_excel(\n",
        "    file_,\n",
        "    sheet_name=None,\n",
        "    header=0)\n",
        "\n",
        "print(f'В файле {file_} содержатся следующие листы:\\n', [x for x in f.keys()])"
      ],
      "metadata": {
        "colab": {
          "base_uri": "https://localhost:8080/"
        },
        "id": "TMdY7Xm0KGg3",
        "outputId": "6a544eb2-3d5f-40e8-e880-a9812eb11b98"
      },
      "execution_count": 39,
      "outputs": [
        {
          "output_type": "stream",
          "name": "stdout",
          "text": [
            "В файле UI-партия4.xls содержатся следующие листы:\n",
            " ['ШПИ']\n"
          ]
        }
      ]
    },
    {
      "cell_type": "code",
      "source": [
        "db_conn = sq.connect(\"database.db\")\n",
        "cur = db_conn.cursor()"
      ],
      "metadata": {
        "id": "aHBanouFI7Fa"
      },
      "execution_count": 20,
      "outputs": []
    },
    {
      "cell_type": "code",
      "source": [
        "f.columns"
      ],
      "metadata": {
        "colab": {
          "base_uri": "https://localhost:8080/"
        },
        "id": "tApEiKZ7Lb2W",
        "outputId": "6005c996-96a1-49c9-84f0-1ab79ac61c46"
      },
      "execution_count": 23,
      "outputs": [
        {
          "output_type": "execute_result",
          "data": {
            "text/plain": [
              "Index(['Номер заказа', 'ШПИ', 'Масса', 'Стоимость пересылки (с НДС)', 'Индекс',\n",
              "       'Адрес', 'Телефон', 'ФИО', 'ID_PO', 'Комментарий', 'Вид РПО'],\n",
              "      dtype='object')"
            ]
          },
          "metadata": {},
          "execution_count": 23
        }
      ]
    },
    {
      "cell_type": "code",
      "source": [
        "# def get_col_dts():\n",
        "#   def get_datatype(col):\n",
        "#     return type(f[col][0])\n",
        "#   return list(map(get_datatype, f.columns))\n",
        "  \n",
        "# get_col_dts()\n",
        "\n",
        "f\n"
      ],
      "metadata": {
        "colab": {
          "base_uri": "https://localhost:8080/",
          "height": 211
        },
        "id": "Vab_04ODLkmI",
        "outputId": "c6839f8f-ea5d-4909-f6c2-a4b1cd88e6f7"
      },
      "execution_count": 29,
      "outputs": [
        {
          "output_type": "error",
          "ename": "TypeError",
          "evalue": "ignored",
          "traceback": [
            "\u001b[0;31m---------------------------------------------------------------------------\u001b[0m",
            "\u001b[0;31mTypeError\u001b[0m                                 Traceback (most recent call last)",
            "\u001b[0;32m<ipython-input-29-9011def604c9>\u001b[0m in \u001b[0;36m<module>\u001b[0;34m()\u001b[0m\n\u001b[1;32m      6\u001b[0m \u001b[0;31m# get_col_dts()\u001b[0m\u001b[0;34m\u001b[0m\u001b[0;34m\u001b[0m\u001b[0;34m\u001b[0m\u001b[0m\n\u001b[1;32m      7\u001b[0m \u001b[0;34m\u001b[0m\u001b[0m\n\u001b[0;32m----> 8\u001b[0;31m \u001b[0mf\u001b[0m\u001b[0;34m.\u001b[0m\u001b[0mdtypes\u001b[0m\u001b[0;34m(\u001b[0m\u001b[0;34m)\u001b[0m\u001b[0;34m\u001b[0m\u001b[0;34m\u001b[0m\u001b[0m\n\u001b[0m",
            "\u001b[0;31mTypeError\u001b[0m: 'Series' object is not callable"
          ]
        }
      ]
    },
    {
      "cell_type": "code",
      "source": [
        "cur.execute(\n",
        "    \"\"\"\n",
        "    CREATE TABLE ui-4 (\n",
        "        ШПИ INTEGER ,\n",
        "        OrderID TEXT NOT NULL,\n",
        "        ProductID TEXT NOT NULL,\n",
        "        Sales REAL,\n",
        "        Quantity INTEGER,\n",
        "        Discount REAL,\n",
        "        Profit REAL,\n",
        "        PRIMARY KEY(SalesID),\n",
        "        FOREIGN KEY(OrderID) REFERENCES orders(OrderID),\n",
        "        FOREIGN KEY(ProductID) REFERENCES products(ProductID)\n",
        "        );\n",
        "     \"\"\"\n",
        ")\n",
        "\n"
      ],
      "metadata": {
        "id": "KB2OtWNd-Jhw"
      },
      "execution_count": 18,
      "outputs": []
    }
  ]
}